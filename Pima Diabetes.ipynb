{
 "cells": [
  {
   "cell_type": "markdown",
   "metadata": {},
   "source": [
    "## Predicting Diabetes"
   ]
  },
  {
   "cell_type": "markdown",
   "metadata": {},
   "source": [
    "### Import libraries"
   ]
  },
  {
   "cell_type": "code",
   "execution_count": 1,
   "metadata": {},
   "outputs": [],
   "source": [
    "import pandas as pd #pandas is a dataframe library\n",
    "import matplotlib.pyplot as plt #plots the data\n",
    "import numpy as np # provides N-dim object support\n",
    "\n",
    "#do ploting inline instead of in a separate window\n",
    "%matplotlib inline"
   ]
  },
  {
   "cell_type": "markdown",
   "metadata": {},
   "source": [
    "### Loading and review data"
   ]
  },
  {
   "cell_type": "code",
   "execution_count": 9,
   "metadata": {},
   "outputs": [],
   "source": [
    "df = pd.read_csv(\"./data/pima-indians-diabetes.csv\") # load data. Adjust path as necessary"
   ]
  },
  {
   "cell_type": "code",
   "execution_count": 10,
   "metadata": {},
   "outputs": [
    {
     "data": {
      "text/plain": [
       "(768, 9)"
      ]
     },
     "execution_count": 10,
     "metadata": {},
     "output_type": "execute_result"
    }
   ],
   "source": [
    "df.shape"
   ]
  },
  {
   "cell_type": "code",
   "execution_count": 11,
   "metadata": {},
   "outputs": [
    {
     "data": {
      "text/html": [
       "<div>\n",
       "<style scoped>\n",
       "    .dataframe tbody tr th:only-of-type {\n",
       "        vertical-align: middle;\n",
       "    }\n",
       "\n",
       "    .dataframe tbody tr th {\n",
       "        vertical-align: top;\n",
       "    }\n",
       "\n",
       "    .dataframe thead th {\n",
       "        text-align: right;\n",
       "    }\n",
       "</style>\n",
       "<table border=\"1\" class=\"dataframe\">\n",
       "  <thead>\n",
       "    <tr style=\"text-align: right;\">\n",
       "      <th></th>\n",
       "      <th>1. Number of times pregnant</th>\n",
       "      <th>2. Plasma glucose concentration a 2 hours in an oral glucose tolerance test</th>\n",
       "      <th>3. Diastolic blood pressure (mm Hg)</th>\n",
       "      <th>4. Triceps skin fold thickness (mm)</th>\n",
       "      <th>5. 2-Hour serum insulin (mu U/ml)</th>\n",
       "      <th>6. Body mass index (weight in kg/(height in m)^2)</th>\n",
       "      <th>7. Diabetes pedigree function</th>\n",
       "      <th>8. Age (years)</th>\n",
       "      <th>9. Class variable (0 or 1)</th>\n",
       "    </tr>\n",
       "  </thead>\n",
       "  <tbody>\n",
       "    <tr>\n",
       "      <th>0</th>\n",
       "      <td>6</td>\n",
       "      <td>148</td>\n",
       "      <td>72</td>\n",
       "      <td>35</td>\n",
       "      <td>0</td>\n",
       "      <td>33.6</td>\n",
       "      <td>0.627</td>\n",
       "      <td>50</td>\n",
       "      <td>1</td>\n",
       "    </tr>\n",
       "    <tr>\n",
       "      <th>1</th>\n",
       "      <td>1</td>\n",
       "      <td>85</td>\n",
       "      <td>66</td>\n",
       "      <td>29</td>\n",
       "      <td>0</td>\n",
       "      <td>26.6</td>\n",
       "      <td>0.351</td>\n",
       "      <td>31</td>\n",
       "      <td>0</td>\n",
       "    </tr>\n",
       "    <tr>\n",
       "      <th>2</th>\n",
       "      <td>8</td>\n",
       "      <td>183</td>\n",
       "      <td>64</td>\n",
       "      <td>0</td>\n",
       "      <td>0</td>\n",
       "      <td>23.3</td>\n",
       "      <td>0.672</td>\n",
       "      <td>32</td>\n",
       "      <td>1</td>\n",
       "    </tr>\n",
       "    <tr>\n",
       "      <th>3</th>\n",
       "      <td>1</td>\n",
       "      <td>89</td>\n",
       "      <td>66</td>\n",
       "      <td>23</td>\n",
       "      <td>94</td>\n",
       "      <td>28.1</td>\n",
       "      <td>0.167</td>\n",
       "      <td>21</td>\n",
       "      <td>0</td>\n",
       "    </tr>\n",
       "    <tr>\n",
       "      <th>4</th>\n",
       "      <td>0</td>\n",
       "      <td>137</td>\n",
       "      <td>40</td>\n",
       "      <td>35</td>\n",
       "      <td>168</td>\n",
       "      <td>43.1</td>\n",
       "      <td>2.288</td>\n",
       "      <td>33</td>\n",
       "      <td>1</td>\n",
       "    </tr>\n",
       "  </tbody>\n",
       "</table>\n",
       "</div>"
      ],
      "text/plain": [
       "   1. Number of times pregnant  \\\n",
       "0                            6   \n",
       "1                            1   \n",
       "2                            8   \n",
       "3                            1   \n",
       "4                            0   \n",
       "\n",
       "   2. Plasma glucose concentration a 2 hours in an oral glucose tolerance test  \\\n",
       "0                                                148                             \n",
       "1                                                 85                             \n",
       "2                                                183                             \n",
       "3                                                 89                             \n",
       "4                                                137                             \n",
       "\n",
       "   3. Diastolic blood pressure (mm Hg)  4. Triceps skin fold thickness (mm)  \\\n",
       "0                                   72                                   35   \n",
       "1                                   66                                   29   \n",
       "2                                   64                                    0   \n",
       "3                                   66                                   23   \n",
       "4                                   40                                   35   \n",
       "\n",
       "   5. 2-Hour serum insulin (mu U/ml)  \\\n",
       "0                                  0   \n",
       "1                                  0   \n",
       "2                                  0   \n",
       "3                                 94   \n",
       "4                                168   \n",
       "\n",
       "   6. Body mass index (weight in kg/(height in m)^2)  \\\n",
       "0                                               33.6   \n",
       "1                                               26.6   \n",
       "2                                               23.3   \n",
       "3                                               28.1   \n",
       "4                                               43.1   \n",
       "\n",
       "   7. Diabetes pedigree function  8. Age (years)  9. Class variable (0 or 1)  \n",
       "0                          0.627              50                           1  \n",
       "1                          0.351              31                           0  \n",
       "2                          0.672              32                           1  \n",
       "3                          0.167              21                           0  \n",
       "4                          2.288              33                           1  "
      ]
     },
     "execution_count": 11,
     "metadata": {},
     "output_type": "execute_result"
    }
   ],
   "source": [
    "df.head(5)"
   ]
  },
  {
   "cell_type": "code",
   "execution_count": 12,
   "metadata": {},
   "outputs": [
    {
     "data": {
      "text/html": [
       "<div>\n",
       "<style scoped>\n",
       "    .dataframe tbody tr th:only-of-type {\n",
       "        vertical-align: middle;\n",
       "    }\n",
       "\n",
       "    .dataframe tbody tr th {\n",
       "        vertical-align: top;\n",
       "    }\n",
       "\n",
       "    .dataframe thead th {\n",
       "        text-align: right;\n",
       "    }\n",
       "</style>\n",
       "<table border=\"1\" class=\"dataframe\">\n",
       "  <thead>\n",
       "    <tr style=\"text-align: right;\">\n",
       "      <th></th>\n",
       "      <th>1. Number of times pregnant</th>\n",
       "      <th>2. Plasma glucose concentration a 2 hours in an oral glucose tolerance test</th>\n",
       "      <th>3. Diastolic blood pressure (mm Hg)</th>\n",
       "      <th>4. Triceps skin fold thickness (mm)</th>\n",
       "      <th>5. 2-Hour serum insulin (mu U/ml)</th>\n",
       "      <th>6. Body mass index (weight in kg/(height in m)^2)</th>\n",
       "      <th>7. Diabetes pedigree function</th>\n",
       "      <th>8. Age (years)</th>\n",
       "      <th>9. Class variable (0 or 1)</th>\n",
       "    </tr>\n",
       "  </thead>\n",
       "  <tbody>\n",
       "    <tr>\n",
       "      <th>763</th>\n",
       "      <td>10</td>\n",
       "      <td>101</td>\n",
       "      <td>76</td>\n",
       "      <td>48</td>\n",
       "      <td>180</td>\n",
       "      <td>32.9</td>\n",
       "      <td>0.171</td>\n",
       "      <td>63</td>\n",
       "      <td>0</td>\n",
       "    </tr>\n",
       "    <tr>\n",
       "      <th>764</th>\n",
       "      <td>2</td>\n",
       "      <td>122</td>\n",
       "      <td>70</td>\n",
       "      <td>27</td>\n",
       "      <td>0</td>\n",
       "      <td>36.8</td>\n",
       "      <td>0.340</td>\n",
       "      <td>27</td>\n",
       "      <td>0</td>\n",
       "    </tr>\n",
       "    <tr>\n",
       "      <th>765</th>\n",
       "      <td>5</td>\n",
       "      <td>121</td>\n",
       "      <td>72</td>\n",
       "      <td>23</td>\n",
       "      <td>112</td>\n",
       "      <td>26.2</td>\n",
       "      <td>0.245</td>\n",
       "      <td>30</td>\n",
       "      <td>0</td>\n",
       "    </tr>\n",
       "    <tr>\n",
       "      <th>766</th>\n",
       "      <td>1</td>\n",
       "      <td>126</td>\n",
       "      <td>60</td>\n",
       "      <td>0</td>\n",
       "      <td>0</td>\n",
       "      <td>30.1</td>\n",
       "      <td>0.349</td>\n",
       "      <td>47</td>\n",
       "      <td>1</td>\n",
       "    </tr>\n",
       "    <tr>\n",
       "      <th>767</th>\n",
       "      <td>1</td>\n",
       "      <td>93</td>\n",
       "      <td>70</td>\n",
       "      <td>31</td>\n",
       "      <td>0</td>\n",
       "      <td>30.4</td>\n",
       "      <td>0.315</td>\n",
       "      <td>23</td>\n",
       "      <td>0</td>\n",
       "    </tr>\n",
       "  </tbody>\n",
       "</table>\n",
       "</div>"
      ],
      "text/plain": [
       "     1. Number of times pregnant  \\\n",
       "763                           10   \n",
       "764                            2   \n",
       "765                            5   \n",
       "766                            1   \n",
       "767                            1   \n",
       "\n",
       "     2. Plasma glucose concentration a 2 hours in an oral glucose tolerance test  \\\n",
       "763                                                101                             \n",
       "764                                                122                             \n",
       "765                                                121                             \n",
       "766                                                126                             \n",
       "767                                                 93                             \n",
       "\n",
       "     3. Diastolic blood pressure (mm Hg)  4. Triceps skin fold thickness (mm)  \\\n",
       "763                                   76                                   48   \n",
       "764                                   70                                   27   \n",
       "765                                   72                                   23   \n",
       "766                                   60                                    0   \n",
       "767                                   70                                   31   \n",
       "\n",
       "     5. 2-Hour serum insulin (mu U/ml)  \\\n",
       "763                                180   \n",
       "764                                  0   \n",
       "765                                112   \n",
       "766                                  0   \n",
       "767                                  0   \n",
       "\n",
       "     6. Body mass index (weight in kg/(height in m)^2)  \\\n",
       "763                                               32.9   \n",
       "764                                               36.8   \n",
       "765                                               26.2   \n",
       "766                                               30.1   \n",
       "767                                               30.4   \n",
       "\n",
       "     7. Diabetes pedigree function  8. Age (years)  9. Class variable (0 or 1)  \n",
       "763                          0.171              63                           0  \n",
       "764                          0.340              27                           0  \n",
       "765                          0.245              30                           0  \n",
       "766                          0.349              47                           1  \n",
       "767                          0.315              23                           0  "
      ]
     },
     "execution_count": 12,
     "metadata": {},
     "output_type": "execute_result"
    }
   ],
   "source": [
    "df.tail(5)"
   ]
  },
  {
   "cell_type": "markdown",
   "metadata": {},
   "source": [
    "### Checking null values"
   ]
  },
  {
   "cell_type": "code",
   "execution_count": 13,
   "metadata": {},
   "outputs": [
    {
     "data": {
      "text/plain": [
       "False"
      ]
     },
     "execution_count": 13,
     "metadata": {},
     "output_type": "execute_result"
    }
   ],
   "source": [
    "df.isnull().values.any()"
   ]
  },
  {
   "cell_type": "code",
   "execution_count": 16,
   "metadata": {},
   "outputs": [],
   "source": [
    "def plot_corr(df, size=9):\n",
    "    corr = df.corr() #data frame correlation function\n",
    "    fig, ax = plt.subplots(figsize=(size,size))\n",
    "    ax.matshow(corr) # color code the rectangles by correlation value\n",
    "    plt.xticks(range(len(corr.columns)), corr.columns) # draw x tick marks\n",
    "    plt.yticks(range(len(corr.columns)), corr.columns) # dra y tick marks"
   ]
  },
  {
   "cell_type": "code",
   "execution_count": 17,
   "metadata": {},
   "outputs": [
    {
     "data": {
      "image/png": "[encoded data removed]",
      "text/plain": [
       "<Figure size 648x648 with 1 Axes>"
      ]
     },
     "metadata": {
      "needs_background": "light"
     },
     "output_type": "display_data"
    }
   ],
   "source": [
    "plot_corr(df)"
   ]
  },
  {
   "cell_type": "code",
   "execution_count": 18,
   "metadata": {},
   "outputs": [
    {
     "data": {
      "text/html": [
       "<div>\n",
       "<style scoped>\n",
       "    .dataframe tbody tr th:only-of-type {\n",
       "        vertical-align: middle;\n",
       "    }\n",
       "\n",
       "    .dataframe tbody tr th {\n",
       "        vertical-align: top;\n",
       "    }\n",
       "\n",
       "    .dataframe thead th {\n",
       "        text-align: right;\n",
       "    }\n",
       "</style>\n",
       "<table border=\"1\" class=\"dataframe\">\n",
       "  <thead>\n",
       "    <tr style=\"text-align: right;\">\n",
       "      <th></th>\n",
       "      <th>1. Number of times pregnant</th>\n",
       "      <th>2. Plasma glucose concentration a 2 hours in an oral glucose tolerance test</th>\n",
       "      <th>3. Diastolic blood pressure (mm Hg)</th>\n",
       "      <th>4. Triceps skin fold thickness (mm)</th>\n",
       "      <th>5. 2-Hour serum insulin (mu U/ml)</th>\n",
       "      <th>6. Body mass index (weight in kg/(height in m)^2)</th>\n",
       "      <th>7. Diabetes pedigree function</th>\n",
       "      <th>8. Age (years)</th>\n",
       "      <th>9. Class variable (0 or 1)</th>\n",
       "    </tr>\n",
       "  </thead>\n",
       "  <tbody>\n",
       "    <tr>\n",
       "      <th>1. Number of times pregnant</th>\n",
       "      <td>1.000000</td>\n",
       "      <td>0.129459</td>\n",
       "      <td>0.141282</td>\n",
       "      <td>-0.081672</td>\n",
       "      <td>-0.073535</td>\n",
       "      <td>0.017683</td>\n",
       "      <td>-0.033523</td>\n",
       "      <td>0.544341</td>\n",
       "      <td>0.221898</td>\n",
       "    </tr>\n",
       "    <tr>\n",
       "      <th>2. Plasma glucose concentration a 2 hours in an oral glucose tolerance test</th>\n",
       "      <td>0.129459</td>\n",
       "      <td>1.000000</td>\n",
       "      <td>0.152590</td>\n",
       "      <td>0.057328</td>\n",
       "      <td>0.331357</td>\n",
       "      <td>0.221071</td>\n",
       "      <td>0.137337</td>\n",
       "      <td>0.263514</td>\n",
       "      <td>0.466581</td>\n",
       "    </tr>\n",
       "    <tr>\n",
       "      <th>3. Diastolic blood pressure (mm Hg)</th>\n",
       "      <td>0.141282</td>\n",
       "      <td>0.152590</td>\n",
       "      <td>1.000000</td>\n",
       "      <td>0.207371</td>\n",
       "      <td>0.088933</td>\n",
       "      <td>0.281805</td>\n",
       "      <td>0.041265</td>\n",
       "      <td>0.239528</td>\n",
       "      <td>0.065068</td>\n",
       "    </tr>\n",
       "    <tr>\n",
       "      <th>4. Triceps skin fold thickness (mm)</th>\n",
       "      <td>-0.081672</td>\n",
       "      <td>0.057328</td>\n",
       "      <td>0.207371</td>\n",
       "      <td>1.000000</td>\n",
       "      <td>0.436783</td>\n",
       "      <td>0.392573</td>\n",
       "      <td>0.183928</td>\n",
       "      <td>-0.113970</td>\n",
       "      <td>0.074752</td>\n",
       "    </tr>\n",
       "    <tr>\n",
       "      <th>5. 2-Hour serum insulin (mu U/ml)</th>\n",
       "      <td>-0.073535</td>\n",
       "      <td>0.331357</td>\n",
       "      <td>0.088933</td>\n",
       "      <td>0.436783</td>\n",
       "      <td>1.000000</td>\n",
       "      <td>0.197859</td>\n",
       "      <td>0.185071</td>\n",
       "      <td>-0.042163</td>\n",
       "      <td>0.130548</td>\n",
       "    </tr>\n",
       "    <tr>\n",
       "      <th>6. Body mass index (weight in kg/(height in m)^2)</th>\n",
       "      <td>0.017683</td>\n",
       "      <td>0.221071</td>\n",
       "      <td>0.281805</td>\n",
       "      <td>0.392573</td>\n",
       "      <td>0.197859</td>\n",
       "      <td>1.000000</td>\n",
       "      <td>0.140647</td>\n",
       "      <td>0.036242</td>\n",
       "      <td>0.292695</td>\n",
       "    </tr>\n",
       "    <tr>\n",
       "      <th>7. Diabetes pedigree function</th>\n",
       "      <td>-0.033523</td>\n",
       "      <td>0.137337</td>\n",
       "      <td>0.041265</td>\n",
       "      <td>0.183928</td>\n",
       "      <td>0.185071</td>\n",
       "      <td>0.140647</td>\n",
       "      <td>1.000000</td>\n",
       "      <td>0.033561</td>\n",
       "      <td>0.173844</td>\n",
       "    </tr>\n",
       "    <tr>\n",
       "      <th>8. Age (years)</th>\n",
       "      <td>0.544341</td>\n",
       "      <td>0.263514</td>\n",
       "      <td>0.239528</td>\n",
       "      <td>-0.113970</td>\n",
       "      <td>-0.042163</td>\n",
       "      <td>0.036242</td>\n",
       "      <td>0.033561</td>\n",
       "      <td>1.000000</td>\n",
       "      <td>0.238356</td>\n",
       "    </tr>\n",
       "    <tr>\n",
       "      <th>9. Class variable (0 or 1)</th>\n",
       "      <td>0.221898</td>\n",
       "      <td>0.466581</td>\n",
       "      <td>0.065068</td>\n",
       "      <td>0.074752</td>\n",
       "      <td>0.130548</td>\n",
       "      <td>0.292695</td>\n",
       "      <td>0.173844</td>\n",
       "      <td>0.238356</td>\n",
       "      <td>1.000000</td>\n",
       "    </tr>\n",
       "  </tbody>\n",
       "</table>\n",
       "</div>"
      ],
      "text/plain": [
       "                                                    1. Number of times pregnant  \\\n",
       "1. Number of times pregnant                                            1.000000   \n",
       "2. Plasma glucose concentration a 2 hours in an...                     0.129459   \n",
       "3. Diastolic blood pressure (mm Hg)                                    0.141282   \n",
       "4. Triceps skin fold thickness (mm)                                   -0.081672   \n",
       "5. 2-Hour serum insulin (mu U/ml)                                     -0.073535   \n",
       "6. Body mass index (weight in kg/(height in m)^2)                      0.017683   \n",
       "7. Diabetes pedigree function                                         -0.033523   \n",
       "8. Age (years)                                                         0.544341   \n",
       "9. Class variable (0 or 1)                                             0.221898   \n",
       "\n",
       "                                                    2. Plasma glucose concentration a 2 hours in an oral glucose tolerance test  \\\n",
       "1. Number of times pregnant                                                                  0.129459                             \n",
       "2. Plasma glucose concentration a 2 hours in an...                                           1.000000                             \n",
       "3. Diastolic blood pressure (mm Hg)                                                          0.152590                             \n",
       "4. Triceps skin fold thickness (mm)                                                          0.057328                             \n",
       "5. 2-Hour serum insulin (mu U/ml)                                                            0.331357                             \n",
       "6. Body mass index (weight in kg/(height in m)^2)                                            0.221071                             \n",
       "7. Diabetes pedigree function                                                                0.137337                             \n",
       "8. Age (years)                                                                               0.263514                             \n",
       "9. Class variable (0 or 1)                                                                   0.466581                             \n",
       "\n",
       "                                                    3. Diastolic blood pressure (mm Hg)  \\\n",
       "1. Number of times pregnant                                                    0.141282   \n",
       "2. Plasma glucose concentration a 2 hours in an...                             0.152590   \n",
       "3. Diastolic blood pressure (mm Hg)                                            1.000000   \n",
       "4. Triceps skin fold thickness (mm)                                            0.207371   \n",
       "5. 2-Hour serum insulin (mu U/ml)                                              0.088933   \n",
       "6. Body mass index (weight in kg/(height in m)^2)                              0.281805   \n",
       "7. Diabetes pedigree function                                                  0.041265   \n",
       "8. Age (years)                                                                 0.239528   \n",
       "9. Class variable (0 or 1)                                                     0.065068   \n",
       "\n",
       "                                                    4. Triceps skin fold thickness (mm)  \\\n",
       "1. Number of times pregnant                                                   -0.081672   \n",
       "2. Plasma glucose concentration a 2 hours in an...                             0.057328   \n",
       "3. Diastolic blood pressure (mm Hg)                                            0.207371   \n",
       "4. Triceps skin fold thickness (mm)                                            1.000000   \n",
       "5. 2-Hour serum insulin (mu U/ml)                                              0.436783   \n",
       "6. Body mass index (weight in kg/(height in m)^2)                              0.392573   \n",
       "7. Diabetes pedigree function                                                  0.183928   \n",
       "8. Age (years)                                                                -0.113970   \n",
       "9. Class variable (0 or 1)                                                     0.074752   \n",
       "\n",
       "                                                    5. 2-Hour serum insulin (mu U/ml)  \\\n",
       "1. Number of times pregnant                                                 -0.073535   \n",
       "2. Plasma glucose concentration a 2 hours in an...                           0.331357   \n",
       "3. Diastolic blood pressure (mm Hg)                                          0.088933   \n",
       "4. Triceps skin fold thickness (mm)                                          0.436783   \n",
       "5. 2-Hour serum insulin (mu U/ml)                                            1.000000   \n",
       "6. Body mass index (weight in kg/(height in m)^2)                            0.197859   \n",
       "7. Diabetes pedigree function                                                0.185071   \n",
       "8. Age (years)                                                              -0.042163   \n",
       "9. Class variable (0 or 1)                                                   0.130548   \n",
       "\n",
       "                                                    6. Body mass index (weight in kg/(height in m)^2)  \\\n",
       "1. Number of times pregnant                                                                  0.017683   \n",
       "2. Plasma glucose concentration a 2 hours in an...                                           0.221071   \n",
       "3. Diastolic blood pressure (mm Hg)                                                          0.281805   \n",
       "4. Triceps skin fold thickness (mm)                                                          0.392573   \n",
       "5. 2-Hour serum insulin (mu U/ml)                                                            0.197859   \n",
       "6. Body mass index (weight in kg/(height in m)^2)                                            1.000000   \n",
       "7. Diabetes pedigree function                                                                0.140647   \n",
       "8. Age (years)                                                                               0.036242   \n",
       "9. Class variable (0 or 1)                                                                   0.292695   \n",
       "\n",
       "                                                    7. Diabetes pedigree function  \\\n",
       "1. Number of times pregnant                                             -0.033523   \n",
       "2. Plasma glucose concentration a 2 hours in an...                       0.137337   \n",
       "3. Diastolic blood pressure (mm Hg)                                      0.041265   \n",
       "4. Triceps skin fold thickness (mm)                                      0.183928   \n",
       "5. 2-Hour serum insulin (mu U/ml)                                        0.185071   \n",
       "6. Body mass index (weight in kg/(height in m)^2)                        0.140647   \n",
       "7. Diabetes pedigree function                                            1.000000   \n",
       "8. Age (years)                                                           0.033561   \n",
       "9. Class variable (0 or 1)                                               0.173844   \n",
       "\n",
       "                                                    8. Age (years)  \\\n",
       "1. Number of times pregnant                               0.544341   \n",
       "2. Plasma glucose concentration a 2 hours in an...        0.263514   \n",
       "3. Diastolic blood pressure (mm Hg)                       0.239528   \n",
       "4. Triceps skin fold thickness (mm)                      -0.113970   \n",
       "5. 2-Hour serum insulin (mu U/ml)                        -0.042163   \n",
       "6. Body mass index (weight in kg/(height in m)^2)         0.036242   \n",
       "7. Diabetes pedigree function                             0.033561   \n",
       "8. Age (years)                                            1.000000   \n",
       "9. Class variable (0 or 1)                                0.238356   \n",
       "\n",
       "                                                    9. Class variable (0 or 1)  \n",
       "1. Number of times pregnant                                           0.221898  \n",
       "2. Plasma glucose concentration a 2 hours in an...                    0.466581  \n",
       "3. Diastolic blood pressure (mm Hg)                                   0.065068  \n",
       "4. Triceps skin fold thickness (mm)                                   0.074752  \n",
       "5. 2-Hour serum insulin (mu U/ml)                                     0.130548  \n",
       "6. Body mass index (weight in kg/(height in m)^2)                     0.292695  \n",
       "7. Diabetes pedigree function                                         0.173844  \n",
       "8. Age (years)                                                        0.238356  \n",
       "9. Class variable (0 or 1)                                            1.000000  "
      ]
     },
     "execution_count": 18,
     "metadata": {},
     "output_type": "execute_result"
    }
   ],
   "source": [
    "df.corr()"
   ]
  },
  {
   "cell_type": "markdown",
   "metadata": {},
   "source": [
    "### Ceck true/false ratio"
   ]
  },
  {
   "cell_type": "code",
   "execution_count": 22,
   "metadata": {},
   "outputs": [
    {
     "name": "stdout",
     "output_type": "stream",
     "text": [
      "Number of True cases: 268 (34.90%)\n",
      "Number of False cases: 500 (65.10%)\n"
     ]
    }
   ],
   "source": [
    "num_true = len(df.loc[df['9. Class variable (0 or 1)'] == True])\n",
    "num_false = len(df.loc[df['9. Class variable (0 or 1)'] == False])\n",
    "print(\"Number of True cases: {0} ({1:2.2f}%)\".format(num_true, (num_true/ (num_true + num_false)) * 100))\n",
    "print(\"Number of False cases: {0} ({1:2.2f}%)\".format(num_false, (num_false/ (num_true + num_false)) * 100))"
   ]
  },
  {
   "cell_type": "markdown",
   "metadata": {},
   "source": [
    "### Spliting the data\n",
    "70% for training, 30% for testing"
   ]
  },
  {
   "cell_type": "code",
   "execution_count": 24,
   "metadata": {},
   "outputs": [],
   "source": [
    "from sklearn.model_selection import train_test_split\n",
    "\n",
    "feature_col_names = ['1. Number of times pregnant',\n",
    "                     '2. Plasma glucose concentration a 2 hours in an oral glucose tolerance test',\n",
    "                     '3. Diastolic blood pressure (mm Hg)',\n",
    "                     '4. Triceps skin fold thickness (mm)',\n",
    "                     '5. 2-Hour serum insulin (mu U/ml)',\n",
    "                     '6. Body mass index (weight in kg/(height in m)^2)',\n",
    "                     '7. Diabetes pedigree function',\n",
    "                     '8. Age (years)']\n",
    "predicted_class_names = ['9. Class variable (0 or 1)']\n",
    "\n",
    "x = df[feature_col_names].values\n",
    "y = df[predicted_class_names].values\n",
    "split_test_size = 0.30\n",
    "\n",
    "x_train, x_test, y_train, y_test = train_test_split(x, y, test_size=split_test_size, random_state=42)"
   ]
  },
  {
   "cell_type": "markdown",
   "metadata": {},
   "source": [
    "We check to ensure we have the desired 70% train, 30% test split of the data"
   ]
  },
  {
   "cell_type": "code",
   "execution_count": 25,
   "metadata": {},
   "outputs": [
    {
     "name": "stdout",
     "output_type": "stream",
     "text": [
      "69.92% in training set\n",
      "30.08% in test set\n"
     ]
    }
   ],
   "source": [
    "print(\"{0:0.2f}% in training set\".format((len(x_train)/len(df.index)) * 100))\n",
    "print(\"{0:0.2f}% in test set\".format((len(x_test)/len(df.index)) * 100))"
   ]
  },
  {
   "cell_type": "markdown",
   "metadata": {},
   "source": [
    "### Verifying predicted value was split correctly"
   ]
  },
  {
   "cell_type": "code",
   "execution_count": 33,
   "metadata": {},
   "outputs": [
    {
     "name": "stdout",
     "output_type": "stream",
     "text": [
      "Original True: 268 (34.90%)\n",
      "Original False: 500 (65.10%)\n",
      "\n",
      "Training True: 188 (35.01%)\n",
      "Training False: 349 (64.99%)\n",
      "\n",
      "Test True: 80 (34.63%)\n",
      "Test True: 151 (65.37%)\n"
     ]
    }
   ],
   "source": [
    "print(\"Original True: {0} ({1:0.2f}%)\".format(len(df.loc[df['9. Class variable (0 or 1)'] == 1]), (len(df.loc[df['9. Class variable (0 or 1)'] == 1])/len(df.index))* 100))\n",
    "print(\"Original False: {0} ({1:0.2f}%)\".format(len(df.loc[df['9. Class variable (0 or 1)'] == 0]), (len(df.loc[df['9. Class variable (0 or 1)'] == 0])/len(df.index))* 100))\n",
    "print(\"\")\n",
    "print(\"Training True: {0} ({1:0.2f}%)\".format(len(y_train[y_train[:] == 1]), (len(y_train[y_train[:] == 1])/len(y_train)* 100)))\n",
    "print(\"Training False: {0} ({1:0.2f}%)\".format(len(y_train[y_train[:] == 0]), (len(y_train[y_train[:] == 0])/len(y_train)* 100)))\n",
    "print(\"\")\n",
    "print(\"Test True: {0} ({1:0.2f}%)\".format(len(y_test[y_test[:] == 1]), (len(y_test[y_test[:] == 1])/len(y_test)* 100)))\n",
    "print(\"Test True: {0} ({1:0.2f}%)\".format(len(y_test[y_test[:] == 0]), (len(y_test[y_test[:] == 0])/len(y_test)* 100)))"
   ]
  },
  {
   "cell_type": "markdown",
   "metadata": {},
   "source": [
    "### Post-split data Preparation"
   ]
  },
  {
   "cell_type": "markdown",
   "metadata": {},
   "source": [
    "#### Hidden Missing values"
   ]
  },
  {
   "cell_type": "code",
   "execution_count": 34,
   "metadata": {},
   "outputs": [
    {
     "data": {
      "text/html": [
       "<div>\n",
       "<style scoped>\n",
       "    .dataframe tbody tr th:only-of-type {\n",
       "        vertical-align: middle;\n",
       "    }\n",
       "\n",
       "    .dataframe tbody tr th {\n",
       "        vertical-align: top;\n",
       "    }\n",
       "\n",
       "    .dataframe thead th {\n",
       "        text-align: right;\n",
       "    }\n",
       "</style>\n",
       "<table border=\"1\" class=\"dataframe\">\n",
       "  <thead>\n",
       "    <tr style=\"text-align: right;\">\n",
       "      <th></th>\n",
       "      <th>1. Number of times pregnant</th>\n",
       "      <th>2. Plasma glucose concentration a 2 hours in an oral glucose tolerance test</th>\n",
       "      <th>3. Diastolic blood pressure (mm Hg)</th>\n",
       "      <th>4. Triceps skin fold thickness (mm)</th>\n",
       "      <th>5. 2-Hour serum insulin (mu U/ml)</th>\n",
       "      <th>6. Body mass index (weight in kg/(height in m)^2)</th>\n",
       "      <th>7. Diabetes pedigree function</th>\n",
       "      <th>8. Age (years)</th>\n",
       "      <th>9. Class variable (0 or 1)</th>\n",
       "    </tr>\n",
       "  </thead>\n",
       "  <tbody>\n",
       "    <tr>\n",
       "      <th>0</th>\n",
       "      <td>6</td>\n",
       "      <td>148</td>\n",
       "      <td>72</td>\n",
       "      <td>35</td>\n",
       "      <td>0</td>\n",
       "      <td>33.6</td>\n",
       "      <td>0.627</td>\n",
       "      <td>50</td>\n",
       "      <td>1</td>\n",
       "    </tr>\n",
       "    <tr>\n",
       "      <th>1</th>\n",
       "      <td>1</td>\n",
       "      <td>85</td>\n",
       "      <td>66</td>\n",
       "      <td>29</td>\n",
       "      <td>0</td>\n",
       "      <td>26.6</td>\n",
       "      <td>0.351</td>\n",
       "      <td>31</td>\n",
       "      <td>0</td>\n",
       "    </tr>\n",
       "    <tr>\n",
       "      <th>2</th>\n",
       "      <td>8</td>\n",
       "      <td>183</td>\n",
       "      <td>64</td>\n",
       "      <td>0</td>\n",
       "      <td>0</td>\n",
       "      <td>23.3</td>\n",
       "      <td>0.672</td>\n",
       "      <td>32</td>\n",
       "      <td>1</td>\n",
       "    </tr>\n",
       "    <tr>\n",
       "      <th>3</th>\n",
       "      <td>1</td>\n",
       "      <td>89</td>\n",
       "      <td>66</td>\n",
       "      <td>23</td>\n",
       "      <td>94</td>\n",
       "      <td>28.1</td>\n",
       "      <td>0.167</td>\n",
       "      <td>21</td>\n",
       "      <td>0</td>\n",
       "    </tr>\n",
       "    <tr>\n",
       "      <th>4</th>\n",
       "      <td>0</td>\n",
       "      <td>137</td>\n",
       "      <td>40</td>\n",
       "      <td>35</td>\n",
       "      <td>168</td>\n",
       "      <td>43.1</td>\n",
       "      <td>2.288</td>\n",
       "      <td>33</td>\n",
       "      <td>1</td>\n",
       "    </tr>\n",
       "  </tbody>\n",
       "</table>\n",
       "</div>"
      ],
      "text/plain": [
       "   1. Number of times pregnant  \\\n",
       "0                            6   \n",
       "1                            1   \n",
       "2                            8   \n",
       "3                            1   \n",
       "4                            0   \n",
       "\n",
       "   2. Plasma glucose concentration a 2 hours in an oral glucose tolerance test  \\\n",
       "0                                                148                             \n",
       "1                                                 85                             \n",
       "2                                                183                             \n",
       "3                                                 89                             \n",
       "4                                                137                             \n",
       "\n",
       "   3. Diastolic blood pressure (mm Hg)  4. Triceps skin fold thickness (mm)  \\\n",
       "0                                   72                                   35   \n",
       "1                                   66                                   29   \n",
       "2                                   64                                    0   \n",
       "3                                   66                                   23   \n",
       "4                                   40                                   35   \n",
       "\n",
       "   5. 2-Hour serum insulin (mu U/ml)  \\\n",
       "0                                  0   \n",
       "1                                  0   \n",
       "2                                  0   \n",
       "3                                 94   \n",
       "4                                168   \n",
       "\n",
       "   6. Body mass index (weight in kg/(height in m)^2)  \\\n",
       "0                                               33.6   \n",
       "1                                               26.6   \n",
       "2                                               23.3   \n",
       "3                                               28.1   \n",
       "4                                               43.1   \n",
       "\n",
       "   7. Diabetes pedigree function  8. Age (years)  9. Class variable (0 or 1)  \n",
       "0                          0.627              50                           1  \n",
       "1                          0.351              31                           0  \n",
       "2                          0.672              32                           1  \n",
       "3                          0.167              21                           0  \n",
       "4                          2.288              33                           1  "
      ]
     },
     "execution_count": 34,
     "metadata": {},
     "output_type": "execute_result"
    }
   ],
   "source": [
    "df.head()"
   ]
  },
  {
   "cell_type": "code",
   "execution_count": 36,
   "metadata": {},
   "outputs": [
    {
     "name": "stdout",
     "output_type": "stream",
     "text": [
      "# rows in dataframe 768\n",
      "# rows missing glucose_conc: 5\n",
      "# rows missing diastolic_bp: 35\n",
      "# rows missing thickness: 227\n",
      "# rows missing insulin: 374\n",
      "# rows missing bmi: 11\n",
      "# rows missing diab_pred: 0\n",
      "# rows missing age: 0\n"
     ]
    }
   ],
   "source": [
    "print(\"# rows in dataframe {0}\".format(len(df)))\n",
    "print(\"# rows missing glucose_conc: {0}\".format(len(df.loc[df['2. Plasma glucose concentration a 2 hours in an oral glucose tolerance test']== 0])))\n",
    "print(\"# rows missing diastolic_bp: {0}\".format(len(df.loc[df['3. Diastolic blood pressure (mm Hg)']== 0])))\n",
    "print(\"# rows missing thickness: {0}\".format(len(df.loc[df['4. Triceps skin fold thickness (mm)']== 0])))\n",
    "print(\"# rows missing insulin: {0}\".format(len(df.loc[df['5. 2-Hour serum insulin (mu U/ml)']== 0])))\n",
    "print(\"# rows missing bmi: {0}\".format(len(df.loc[df['6. Body mass index (weight in kg/(height in m)^2)']== 0])))\n",
    "print(\"# rows missing diab_pred: {0}\".format(len(df.loc[df['7. Diabetes pedigree function']== 0])))\n",
    "print(\"# rows missing age: {0}\".format(len(df.loc[df['8. Age (years)']== 0])))"
   ]
  },
  {
   "cell_type": "markdown",
   "metadata": {},
   "source": [
    "#### Imputing with mean"
   ]
  },
  {
   "cell_type": "code",
   "execution_count": 38,
   "metadata": {},
   "outputs": [],
   "source": [
    "from sklearn.impute import SimpleImputer\n",
    "\n",
    "#Impute with mean all 0 readings\n",
    "fill_0 = SimpleImputer(missing_values=0, strategy=\"mean\")\n",
    "x_train = fill_0.fit_transform(x_train)\n",
    "x_test = fill_0.fit_transform(x_test)"
   ]
  },
  {
   "cell_type": "markdown",
   "metadata": {},
   "source": [
    "### Training Initial Algorithm - Naive Bayes"
   ]
  },
  {
   "cell_type": "code",
   "execution_count": 41,
   "metadata": {},
   "outputs": [
    {
     "data": {
      "text/plain": [
       "GaussianNB()"
      ]
     },
     "execution_count": 41,
     "metadata": {},
     "output_type": "execute_result"
    }
   ],
   "source": [
    "from sklearn.naive_bayes import GaussianNB\n",
    "\n",
    "# create Gaussian Naive Bayes model object and train it with the data\n",
    "nb_model = GaussianNB()\n",
    "\n",
    "nb_model.fit(x_train, y_train.ravel())"
   ]
  },
  {
   "cell_type": "markdown",
   "metadata": {},
   "source": [
    "### Performance on training data"
   ]
  },
  {
   "cell_type": "code",
   "execution_count": 43,
   "metadata": {},
   "outputs": [
    {
     "name": "stdout",
     "output_type": "stream",
     "text": [
      "Accuracy: 0.7542\n",
      "\n"
     ]
    }
   ],
   "source": [
    "#predict values using the training data\n",
    "nb_predict_train = nb_model.predict(x_train)\n",
    "\n",
    "#import the performancemetrocs library\n",
    "from sklearn import metrics\n",
    "\n",
    "#accuracy\n",
    "print(\"Accuracy: {0:.4f}\".format(metrics.accuracy_score(y_train, nb_predict_train)))\n",
    "print()"
   ]
  },
  {
   "cell_type": "markdown",
   "metadata": {},
   "source": [
    "### Performance on testing data "
   ]
  },
  {
   "cell_type": "code",
   "execution_count": 44,
   "metadata": {},
   "outputs": [
    {
     "name": "stdout",
     "output_type": "stream",
     "text": [
      "Accuracy: 0.7359\n",
      "\n"
     ]
    }
   ],
   "source": [
    "#predict values using the test data\n",
    "nb_predict_test = nb_model.predict(x_test)\n",
    "\n",
    "#import the performancemetrocs library\n",
    "from sklearn import metrics\n",
    "\n",
    "#accuracy\n",
    "print(\"Accuracy: {0:.4f}\".format(metrics.accuracy_score(y_test, nb_predict_test)))\n",
    "print()"
   ]
  },
  {
   "cell_type": "markdown",
   "metadata": {},
   "source": [
    "### Metrics"
   ]
  },
  {
   "cell_type": "code",
   "execution_count": 45,
   "metadata": {},
   "outputs": [
    {
     "name": "stdout",
     "output_type": "stream",
     "text": [
      "Confusion matrix\n",
      "[[118  33]\n",
      " [ 28  52]]\n",
      "\n",
      "Classification report\n",
      "              precision    recall  f1-score   support\n",
      "\n",
      "           0       0.81      0.78      0.79       151\n",
      "           1       0.61      0.65      0.63        80\n",
      "\n",
      "    accuracy                           0.74       231\n",
      "   macro avg       0.71      0.72      0.71       231\n",
      "weighted avg       0.74      0.74      0.74       231\n",
      "\n"
     ]
    }
   ],
   "source": [
    "print(\"Confusion matrix\")\n",
    "print(\"{0}\".format(metrics.confusion_matrix(y_test, nb_predict_test)))\n",
    "print(\"\")\n",
    "\n",
    "print(\"Classification report\")\n",
    "print(metrics.classification_report(y_test, nb_predict_test))"
   ]
  },
  {
   "attachments": {
    "matrix%20confusion%20explanation.PNG": {
     "image/png": "[encoded data removed]"
    }
   },
   "cell_type": "markdown",
   "metadata": {},
   "source": [
    "![matrix%20confusion%20explanation.PNG](attachment:matrix%20confusion%20explanation.PNG)"
   ]
  },
  {
   "cell_type": "markdown",
   "metadata": {},
   "source": [
    "### Improve performance on precision using Random Forest"
   ]
  },
  {
   "cell_type": "code",
   "execution_count": 46,
   "metadata": {},
   "outputs": [
    {
     "data": {
      "text/plain": [
       "RandomForestClassifier(random_state=42)"
      ]
     },
     "execution_count": 46,
     "metadata": {},
     "output_type": "execute_result"
    }
   ],
   "source": [
    "from sklearn.ensemble import RandomForestClassifier\n",
    "rf_model =RandomForestClassifier(random_state=42)\n",
    "rf_model.fit(x_train,y_train.ravel())"
   ]
  },
  {
   "cell_type": "markdown",
   "metadata": {},
   "source": [
    "#### Predict training data"
   ]
  },
  {
   "cell_type": "code",
   "execution_count": 47,
   "metadata": {},
   "outputs": [
    {
     "name": "stdout",
     "output_type": "stream",
     "text": [
      "Accuracy: 1.0000\n",
      "\n"
     ]
    }
   ],
   "source": [
    "#predict values using the training data\n",
    "rf_predict_train = rf_model.predict(x_train)\n",
    "#accuracy\n",
    "print(\"Accuracy: {0:.4f}\".format(metrics.accuracy_score(y_train, rf_predict_train)))\n",
    "print()"
   ]
  },
  {
   "cell_type": "markdown",
   "metadata": {},
   "source": [
    "#### Predict test data"
   ]
  },
  {
   "cell_type": "code",
   "execution_count": 48,
   "metadata": {},
   "outputs": [
    {
     "name": "stdout",
     "output_type": "stream",
     "text": [
      "Accuracy: 0.7403\n",
      "\n"
     ]
    }
   ],
   "source": [
    "#predict values using the test data\n",
    "rf_predict_test = rf_model.predict(x_test)\n",
    "\n",
    "#accuracy\n",
    "print(\"Accuracy: {0:.4f}\".format(metrics.accuracy_score(y_test, rf_predict_test)))\n",
    "print()"
   ]
  },
  {
   "cell_type": "markdown",
   "metadata": {},
   "source": [
    "#### Metrics"
   ]
  },
  {
   "cell_type": "code",
   "execution_count": 60,
   "metadata": {},
   "outputs": [
    {
     "name": "stdout",
     "output_type": "stream",
     "text": [
      "Confusion matrix\n",
      "[[119  32]\n",
      " [ 28  52]]\n",
      "\n",
      "Classification report\n",
      "              precision    recall  f1-score   support\n",
      "\n",
      "           0       0.81      0.79      0.80       151\n",
      "           1       0.62      0.65      0.63        80\n",
      "\n",
      "    accuracy                           0.74       231\n",
      "   macro avg       0.71      0.72      0.72       231\n",
      "weighted avg       0.74      0.74      0.74       231\n",
      "\n"
     ]
    }
   ],
   "source": [
    "print(\"Confusion matrix\")\n",
    "print(\"{0}\".format(metrics.confusion_matrix(y_test, rf_predict_test)))\n",
    "print(\"\")\n",
    "\n",
    "print(\"Classification report\")\n",
    "print(metrics.classification_report(y_test, rf_predict_test))"
   ]
  },
  {
   "cell_type": "markdown",
   "metadata": {},
   "source": [
    "### Adjusting algorithm - Logistic Regression"
   ]
  },
  {
   "cell_type": "code",
   "execution_count": 59,
   "metadata": {},
   "outputs": [
    {
     "name": "stdout",
     "output_type": "stream",
     "text": [
      "Accuracy: 0.7359\n",
      "\n",
      "Confusion matrix\n",
      "[[123  28]\n",
      " [ 33  47]]\n",
      "\n",
      "Classification report\n",
      "              precision    recall  f1-score   support\n",
      "\n",
      "           0       0.79      0.81      0.80       151\n",
      "           1       0.63      0.59      0.61        80\n",
      "\n",
      "    accuracy                           0.74       231\n",
      "   macro avg       0.71      0.70      0.70       231\n",
      "weighted avg       0.73      0.74      0.73       231\n",
      "\n"
     ]
    }
   ],
   "source": [
    "from sklearn.linear_model import LogisticRegression\n",
    "\n",
    "lr_model = LogisticRegression(solver='lbfgs', max_iter=600)\n",
    "lr_model.fit(x_train, y_train.ravel())\n",
    "lr_predict_test = lr_model.predict(x_test)\n",
    "\n",
    "#training metrics\n",
    "print(\"Accuracy: {0:.4f}\".format(metrics.accuracy_score(y_test, lr_predict_test)))\n",
    "print()\n",
    "print(\"Confusion matrix\")\n",
    "print(\"{0}\".format(metrics.confusion_matrix(y_test, lr_predict_test)))\n",
    "print(\"\")\n",
    "print(\"Classification report\")\n",
    "print(metrics.classification_report(y_test, lr_predict_test))"
   ]
  },
  {
   "cell_type": "code",
   "execution_count": null,
   "metadata": {},
   "outputs": [],
   "source": []
  },
  {
   "cell_type": "code",
   "execution_count": null,
   "metadata": {},
   "outputs": [],
   "source": []
  },
  {
   "cell_type": "code",
   "execution_count": null,
   "metadata": {},
   "outputs": [],
   "source": []
  },
  {
   "cell_type": "code",
   "execution_count": null,
   "metadata": {},
   "outputs": [],
   "source": []
  }
 ],
 "metadata": {
  "kernelspec": {
   "display_name": "Python 3",
   "language": "python",
   "name": "python3"
  },
  "language_info": {
   "codemirror_mode": {
    "name": "ipython",
    "version": 3
   },
   "file_extension": ".py",
   "mimetype": "text/x-python",
   "name": "python",
   "nbconvert_exporter": "python",
   "pygments_lexer": "ipython3",
   "version": "3.8.3"
  }
 },
 "nbformat": 4,
 "nbformat_minor": 4
}
